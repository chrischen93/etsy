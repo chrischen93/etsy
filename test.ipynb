{
 "cells": [
  {
   "cell_type": "code",
   "execution_count": 18,
   "metadata": {},
   "outputs": [],
   "source": [
    "from selenium import webdriver\n",
    "import re\n",
    "bow=webdriver.Chrome()\n",
    "bow.get('https://www.etsy.com/listing/535225291/macbook-pro-case-marble-design-macbook')\n",
    "\n"
   ]
  },
  {
   "cell_type": "code",
   "execution_count": 66,
   "metadata": {},
   "outputs": [],
   "source": [
    "from bs4 import BeautifulSoup\n",
    "\n",
    "import json\n",
    "html=bow.page_source\n",
    "bs=BeautifulSoup(html,'lxml')\n",
    "tjson=bs.find(\"script\",{\"type\":\"application/ld+json\"}).string\n"
   ]
  },
  {
   "cell_type": "code",
   "execution_count": 74,
   "metadata": {},
   "outputs": [
    {
     "data": {
      "text/plain": [
       "'https://i.etsystatic.com/14735699/r/il/36a916/1264708479/il_fullxfull.1264708479_elne.jpg'"
      ]
     },
     "execution_count": 74,
     "metadata": {},
     "output_type": "execute_result"
    }
   ],
   "source": [
    "js=json.loads(tjson)\n",
    "js.get('image')\n"
   ]
  },
  {
   "cell_type": "code",
   "execution_count": 92,
   "metadata": {},
   "outputs": [
    {
     "data": {
      "text/plain": [
       "'1628 favorites'"
      ]
     },
     "execution_count": 92,
     "metadata": {},
     "output_type": "execute_result"
    }
   ],
   "source": [
    "bow.find_element_by_xpath('//div[contains(@class,\"wt-align-items-baseline\")]/div/a').text #favorites 收藏"
   ]
  },
  {
   "cell_type": "code",
   "execution_count": 91,
   "metadata": {},
   "outputs": [
    {
     "data": {
      "text/plain": [
       "'31'"
      ]
     },
     "execution_count": 91,
     "metadata": {},
     "output_type": "execute_result"
    }
   ],
   "source": [
    "bow.find_element_by_xpath('//span[@class=\"wt-text-caption\"]').text#销量\n",
    "bow.find_element_by_xpath('//span[@class=\"wt-badge wt-badge--status-02 wt-ml-xs-2\"]').text#产品review数量"
   ]
  },
  {
   "cell_type": "code",
   "execution_count": 25,
   "metadata": {},
   "outputs": [],
   "source": [
    "category=re.findall('\\\"category\\\":.*?(?=,)',code)[0]\n",
    "name=re.findall('\\\"name\\\":.*?(?=,)',code)[0]"
   ]
  },
  {
   "cell_type": "code",
   "execution_count": 31,
   "metadata": {},
   "outputs": [],
   "source": [
    "description=re.findall('\\\"description\\\":.*?(?=,)',code)[0]"
   ]
  },
  {
   "cell_type": "code",
   "execution_count": null,
   "metadata": {},
   "outputs": [],
   "source": [
    "prodcut_list=bow.find_elements_by_xpath('//li[contains(@class,\"wt-list-unstyled\")]')"
   ]
  },
  {
   "cell_type": "code",
   "execution_count": null,
   "metadata": {},
   "outputs": [],
   "source": [
    "for prodcut in prodcut_list:\n",
    "    title=prodcut.find_element_by_xpath('.//h3[contains(@class, \"text-gray\")]').text\n",
    "    print(title)"
   ]
  }
 ],
 "metadata": {
  "interpreter": {
   "hash": "4832126f7d4047808203b0af11e9afdb260dabb5323c882ffc138c3bbac44c58"
  },
  "kernelspec": {
   "display_name": "Python 3",
   "language": "python",
   "name": "python3"
  },
  "language_info": {
   "codemirror_mode": {
    "name": "ipython",
    "version": 3
   },
   "file_extension": ".py",
   "mimetype": "text/x-python",
   "name": "python",
   "nbconvert_exporter": "python",
   "pygments_lexer": "ipython3",
   "version": "3.8.10"
  }
 },
 "nbformat": 4,
 "nbformat_minor": 4
}
